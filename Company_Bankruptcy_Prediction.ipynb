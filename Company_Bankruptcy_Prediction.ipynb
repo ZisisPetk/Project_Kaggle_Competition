{
 "cells": [
  {
   "cell_type": "raw",
   "id": "29297bde-2640-4bdf-b741-d36462c00301",
   "metadata": {},
   "source": [
    "COMPANY BANKRUPTCY PREDICTION\n",
    "\n",
    "Στόχος μας είναι να προβλέψουμε επιτυχώς ποιες εταιρείες πρόκειται να χρεοκοπήσουν σύμφωνα με ορισμένους αριθμοδείκτες για τα οικονομικά τους στοιχεία."
   ]
  },
  {
   "cell_type": "raw",
   "id": "fcb438df-7c1d-419d-8f2d-361908846eb4",
   "metadata": {},
   "source": [
    "Αρχικά εισάγουμε τις απαραίτητες βιβλιοθήκες που θα χρησιμοποιηθούν και κάνουμε εγκατάσταση τον xgboost\n"
   ]
  },
  {
   "cell_type": "code",
   "execution_count": 1,
   "id": "405909c9-9623-4e25-b917-22b089960351",
   "metadata": {},
   "outputs": [
    {
     "name": "stdout",
     "output_type": "stream",
     "text": [
      "Requirement already satisfied: xgboost in /opt/conda/lib/python3.7/site-packages (1.6.1)\n",
      "Requirement already satisfied: scipy in /opt/conda/lib/python3.7/site-packages (from xgboost) (1.7.3)\n",
      "Requirement already satisfied: numpy in /opt/conda/lib/python3.7/site-packages (from xgboost) (1.19.5)\n",
      "Note: you may need to restart the kernel to use updated packages.\n"
     ]
    }
   ],
   "source": [
    "pip install xgboost"
   ]
  },
  {
   "cell_type": "code",
   "execution_count": 2,
   "id": "452bba54-f3b2-4101-8663-9c3b1294cbcd",
   "metadata": {},
   "outputs": [],
   "source": [
    "import numpy as np\n",
    "import pandas as pd\n",
    "import xgboost as xgb\n",
    "import math\n",
    "from sklearn.model_selection import train_test_split\n",
    "from sklearn.model_selection import GridSearchCV\n",
    "from sklearn.model_selection import StratifiedKFold\n",
    "from sklearn.metrics import accuracy_score, classification_report\n",
    "from sklearn.metrics import f1_score\n",
    "from sklearn.svm import SVC\n",
    "from sklearn.impute import SimpleImputer"
   ]
  },
  {
   "cell_type": "raw",
   "id": "d2736168-b951-4895-ace4-cd52b6add4f7",
   "metadata": {},
   "source": [
    "Στο επόμενο βήμα θα διαβάσουμε μέσω της βιβλιοθήκης Pandas, τα δεδομένα μας, ενώ στην συνέχεια θα τα μετατρέψουμε ώστε να μπορούμε να τα επεξεργαστούμε."
   ]
  },
  {
   "cell_type": "code",
   "execution_count": 3,
   "id": "5ab3d8a9-5c00-4df5-ace2-26bff2c437f8",
   "metadata": {},
   "outputs": [
    {
     "name": "stderr",
     "output_type": "stream",
     "text": [
      "/opt/conda/lib/python3.7/site-packages/IPython/core/interactiveshell.py:3552: DtypeWarning: Columns (2,3,4,6,7,8,10,11,12,15,16,19,23,26,30,36,37,39,49,52,56,58,59,60) have mixed types.Specify dtype option on import or set low_memory=False.\n",
      "  exec(code_obj, self.user_global_ns, self.user_ns)\n"
     ]
    },
    {
     "data": {
      "text/html": [
       "<div>\n",
       "<style scoped>\n",
       "    .dataframe tbody tr th:only-of-type {\n",
       "        vertical-align: middle;\n",
       "    }\n",
       "\n",
       "    .dataframe tbody tr th {\n",
       "        vertical-align: top;\n",
       "    }\n",
       "\n",
       "    .dataframe thead th {\n",
       "        text-align: right;\n",
       "    }\n",
       "</style>\n",
       "<table border=\"1\" class=\"dataframe\">\n",
       "  <thead>\n",
       "    <tr style=\"text-align: right;\">\n",
       "      <th></th>\n",
       "      <th>id</th>\n",
       "      <th>forecasting period</th>\n",
       "      <th>class</th>\n",
       "    </tr>\n",
       "  </thead>\n",
       "  <tbody>\n",
       "    <tr>\n",
       "      <th>count</th>\n",
       "      <td>25121.000000</td>\n",
       "      <td>25121.000000</td>\n",
       "      <td>25121.000000</td>\n",
       "    </tr>\n",
       "    <tr>\n",
       "      <th>mean</th>\n",
       "      <td>12560.000000</td>\n",
       "      <td>2.608574</td>\n",
       "      <td>0.044823</td>\n",
       "    </tr>\n",
       "    <tr>\n",
       "      <th>std</th>\n",
       "      <td>7251.952392</td>\n",
       "      <td>1.063099</td>\n",
       "      <td>0.206919</td>\n",
       "    </tr>\n",
       "    <tr>\n",
       "      <th>min</th>\n",
       "      <td>0.000000</td>\n",
       "      <td>1.000000</td>\n",
       "      <td>0.000000</td>\n",
       "    </tr>\n",
       "    <tr>\n",
       "      <th>25%</th>\n",
       "      <td>6280.000000</td>\n",
       "      <td>2.000000</td>\n",
       "      <td>0.000000</td>\n",
       "    </tr>\n",
       "    <tr>\n",
       "      <th>50%</th>\n",
       "      <td>12560.000000</td>\n",
       "      <td>3.000000</td>\n",
       "      <td>0.000000</td>\n",
       "    </tr>\n",
       "    <tr>\n",
       "      <th>75%</th>\n",
       "      <td>18840.000000</td>\n",
       "      <td>4.000000</td>\n",
       "      <td>0.000000</td>\n",
       "    </tr>\n",
       "    <tr>\n",
       "      <th>max</th>\n",
       "      <td>25120.000000</td>\n",
       "      <td>4.000000</td>\n",
       "      <td>1.000000</td>\n",
       "    </tr>\n",
       "  </tbody>\n",
       "</table>\n",
       "</div>"
      ],
      "text/plain": [
       "                 id  forecasting period         class\n",
       "count  25121.000000        25121.000000  25121.000000\n",
       "mean   12560.000000            2.608574      0.044823\n",
       "std     7251.952392            1.063099      0.206919\n",
       "min        0.000000            1.000000      0.000000\n",
       "25%     6280.000000            2.000000      0.000000\n",
       "50%    12560.000000            3.000000      0.000000\n",
       "75%    18840.000000            4.000000      0.000000\n",
       "max    25120.000000            4.000000      1.000000"
      ]
     },
     "execution_count": 3,
     "metadata": {},
     "output_type": "execute_result"
    }
   ],
   "source": [
    "a = pd.read_csv('train.csv')\n",
    "a.describe()"
   ]
  },
  {
   "cell_type": "code",
   "execution_count": 4,
   "id": "2d532315-f125-4454-b322-9deaa71a0bb7",
   "metadata": {},
   "outputs": [
    {
     "data": {
      "text/html": [
       "<div>\n",
       "<style scoped>\n",
       "    .dataframe tbody tr th:only-of-type {\n",
       "        vertical-align: middle;\n",
       "    }\n",
       "\n",
       "    .dataframe tbody tr th {\n",
       "        vertical-align: top;\n",
       "    }\n",
       "\n",
       "    .dataframe thead th {\n",
       "        text-align: right;\n",
       "    }\n",
       "</style>\n",
       "<table border=\"1\" class=\"dataframe\">\n",
       "  <thead>\n",
       "    <tr style=\"text-align: right;\">\n",
       "      <th></th>\n",
       "      <th>id</th>\n",
       "      <th>forecasting period</th>\n",
       "      <th>net_profit_over_total_assets</th>\n",
       "      <th>total_liabilities_over_total_assets</th>\n",
       "      <th>working_capital_over_total_assets</th>\n",
       "      <th>current_assets_over_short_term_liabilities</th>\n",
       "      <th>cash_plus_short_term_securities_plus_receivables_minus_short_term_liabilities_over_operating_expenses_minus_depreciation_times_365</th>\n",
       "      <th>retained_earnings_over_total_assets</th>\n",
       "      <th>EBIT_over_total_assets</th>\n",
       "      <th>book_value_of_equity_over_total_liabilities</th>\n",
       "      <th>...</th>\n",
       "      <th>sales_minus_cost_of_products_sold_over_sales</th>\n",
       "      <th>current_assets_minus_inventory_minus_short_term_liabilities_over_sales_minus_gross_profit_minus_depreciation</th>\n",
       "      <th>total_costs_overtotal_sales</th>\n",
       "      <th>long_term_liabilities_over_equity</th>\n",
       "      <th>sales_over_inventory</th>\n",
       "      <th>sales_over_receivables</th>\n",
       "      <th>short_term_liabilities_times_365_over_sales</th>\n",
       "      <th>sales_over_short_term_liabilities</th>\n",
       "      <th>sales_over_fixed_assets</th>\n",
       "      <th>class</th>\n",
       "    </tr>\n",
       "  </thead>\n",
       "  <tbody>\n",
       "    <tr>\n",
       "      <th>count</th>\n",
       "      <td>25121.000000</td>\n",
       "      <td>25121.000000</td>\n",
       "      <td>25118.000000</td>\n",
       "      <td>25118.000000</td>\n",
       "      <td>25118.000000</td>\n",
       "      <td>25043.000000</td>\n",
       "      <td>2.506400e+04</td>\n",
       "      <td>25118.000000</td>\n",
       "      <td>25118.000000</td>\n",
       "      <td>25072.000000</td>\n",
       "      <td>...</td>\n",
       "      <td>25044.000000</td>\n",
       "      <td>25118.000000</td>\n",
       "      <td>25068.000000</td>\n",
       "      <td>25118.000000</td>\n",
       "      <td>2.383900e+04</td>\n",
       "      <td>25064.000000</td>\n",
       "      <td>2.504400e+04</td>\n",
       "      <td>25043.000000</td>\n",
       "      <td>24630.000000</td>\n",
       "      <td>25121.000000</td>\n",
       "    </tr>\n",
       "    <tr>\n",
       "      <th>mean</th>\n",
       "      <td>12560.000000</td>\n",
       "      <td>2.608574</td>\n",
       "      <td>0.046883</td>\n",
       "      <td>0.611913</td>\n",
       "      <td>0.098553</td>\n",
       "      <td>6.285753</td>\n",
       "      <td>-9.125936e+01</td>\n",
       "      <td>-0.067728</td>\n",
       "      <td>0.147535</td>\n",
       "      <td>15.153162</td>\n",
       "      <td>...</td>\n",
       "      <td>-0.770713</td>\n",
       "      <td>0.098693</td>\n",
       "      <td>4.429418</td>\n",
       "      <td>1.597135</td>\n",
       "      <td>3.225273e+02</td>\n",
       "      <td>14.315634</td>\n",
       "      <td>7.394522e+02</td>\n",
       "      <td>9.835042</td>\n",
       "      <td>77.756289</td>\n",
       "      <td>0.044823</td>\n",
       "    </tr>\n",
       "    <tr>\n",
       "      <th>std</th>\n",
       "      <td>7251.952392</td>\n",
       "      <td>1.063099</td>\n",
       "      <td>1.821696</td>\n",
       "      <td>5.933447</td>\n",
       "      <td>5.908136</td>\n",
       "      <td>339.973627</td>\n",
       "      <td>1.828476e+04</td>\n",
       "      <td>6.873121</td>\n",
       "      <td>5.835287</td>\n",
       "      <td>611.473437</td>\n",
       "      <td>...</td>\n",
       "      <td>72.977149</td>\n",
       "      <td>10.380960</td>\n",
       "      <td>383.343937</td>\n",
       "      <td>152.441163</td>\n",
       "      <td>1.606698e+04</td>\n",
       "      <td>120.835222</td>\n",
       "      <td>5.627363e+04</td>\n",
       "      <td>154.676272</td>\n",
       "      <td>2694.281611</td>\n",
       "      <td>0.206919</td>\n",
       "    </tr>\n",
       "    <tr>\n",
       "      <th>min</th>\n",
       "      <td>0.000000</td>\n",
       "      <td>1.000000</td>\n",
       "      <td>-256.889998</td>\n",
       "      <td>-72.162006</td>\n",
       "      <td>-479.959994</td>\n",
       "      <td>-0.044851</td>\n",
       "      <td>-1.670200e+06</td>\n",
       "      <td>-508.409992</td>\n",
       "      <td>-189.559992</td>\n",
       "      <td>-141.410220</td>\n",
       "      <td>...</td>\n",
       "      <td>-8534.599415</td>\n",
       "      <td>-979.250019</td>\n",
       "      <td>-1.631820</td>\n",
       "      <td>-327.970143</td>\n",
       "      <td>-4.066151e-02</td>\n",
       "      <td>-12.655400</td>\n",
       "      <td>-2.336500e+06</td>\n",
       "      <td>-0.367905</td>\n",
       "      <td>-10677.001615</td>\n",
       "      <td>0.000000</td>\n",
       "    </tr>\n",
       "    <tr>\n",
       "      <th>25%</th>\n",
       "      <td>6280.000000</td>\n",
       "      <td>2.000000</td>\n",
       "      <td>0.003354</td>\n",
       "      <td>0.271005</td>\n",
       "      <td>0.016605</td>\n",
       "      <td>1.037774</td>\n",
       "      <td>-5.058748e+01</td>\n",
       "      <td>-0.000010</td>\n",
       "      <td>0.005649</td>\n",
       "      <td>0.422289</td>\n",
       "      <td>...</td>\n",
       "      <td>0.008843</td>\n",
       "      <td>0.015141</td>\n",
       "      <td>0.875577</td>\n",
       "      <td>-0.000002</td>\n",
       "      <td>5.620743e+00</td>\n",
       "      <td>4.538417</td>\n",
       "      <td>4.158029e+01</td>\n",
       "      <td>3.100047</td>\n",
       "      <td>2.185147</td>\n",
       "      <td>0.000000</td>\n",
       "    </tr>\n",
       "    <tr>\n",
       "      <th>50%</th>\n",
       "      <td>12560.000000</td>\n",
       "      <td>3.000000</td>\n",
       "      <td>0.049864</td>\n",
       "      <td>0.476965</td>\n",
       "      <td>0.191679</td>\n",
       "      <td>1.553757</td>\n",
       "      <td>-1.702077e+00</td>\n",
       "      <td>0.000003</td>\n",
       "      <td>0.060077</td>\n",
       "      <td>1.051214</td>\n",
       "      <td>...</td>\n",
       "      <td>0.052831</td>\n",
       "      <td>0.122515</td>\n",
       "      <td>0.950947</td>\n",
       "      <td>0.005193</td>\n",
       "      <td>9.973974e+00</td>\n",
       "      <td>6.732840</td>\n",
       "      <td>7.090939e+01</td>\n",
       "      <td>5.116548</td>\n",
       "      <td>4.340603</td>\n",
       "      <td>0.000000</td>\n",
       "    </tr>\n",
       "    <tr>\n",
       "      <th>75%</th>\n",
       "      <td>18840.000000</td>\n",
       "      <td>4.000000</td>\n",
       "      <td>0.131419</td>\n",
       "      <td>0.693583</td>\n",
       "      <td>0.401751</td>\n",
       "      <td>2.767430</td>\n",
       "      <td>5.120627e+01</td>\n",
       "      <td>0.085018</td>\n",
       "      <td>0.153186</td>\n",
       "      <td>2.593104</td>\n",
       "      <td>...</td>\n",
       "      <td>0.129194</td>\n",
       "      <td>0.293705</td>\n",
       "      <td>0.993072</td>\n",
       "      <td>0.241881</td>\n",
       "      <td>2.082144e+01</td>\n",
       "      <td>10.601720</td>\n",
       "      <td>1.169599e+02</td>\n",
       "      <td>8.708598</td>\n",
       "      <td>9.892896</td>\n",
       "      <td>0.000000</td>\n",
       "    </tr>\n",
       "    <tr>\n",
       "      <th>max</th>\n",
       "      <td>25120.000000</td>\n",
       "      <td>4.000000</td>\n",
       "      <td>52.651999</td>\n",
       "      <td>480.960001</td>\n",
       "      <td>22.769001</td>\n",
       "      <td>53433.000440</td>\n",
       "      <td>1.034100e+06</td>\n",
       "      <td>322.199997</td>\n",
       "      <td>649.230003</td>\n",
       "      <td>53431.999474</td>\n",
       "      <td>...</td>\n",
       "      <td>293.158392</td>\n",
       "      <td>552.639985</td>\n",
       "      <td>59671.999668</td>\n",
       "      <td>23853.000122</td>\n",
       "      <td>2.137800e+06</td>\n",
       "      <td>12296.000520</td>\n",
       "      <td>7.276000e+06</td>\n",
       "      <td>23453.999855</td>\n",
       "      <td>294769.993913</td>\n",
       "      <td>1.000000</td>\n",
       "    </tr>\n",
       "  </tbody>\n",
       "</table>\n",
       "<p>8 rows × 67 columns</p>\n",
       "</div>"
      ],
      "text/plain": [
       "                 id  forecasting period  net_profit_over_total_assets  \\\n",
       "count  25121.000000        25121.000000                  25118.000000   \n",
       "mean   12560.000000            2.608574                      0.046883   \n",
       "std     7251.952392            1.063099                      1.821696   \n",
       "min        0.000000            1.000000                   -256.889998   \n",
       "25%     6280.000000            2.000000                      0.003354   \n",
       "50%    12560.000000            3.000000                      0.049864   \n",
       "75%    18840.000000            4.000000                      0.131419   \n",
       "max    25120.000000            4.000000                     52.651999   \n",
       "\n",
       "       total_liabilities_over_total_assets  working_capital_over_total_assets  \\\n",
       "count                         25118.000000                       25118.000000   \n",
       "mean                              0.611913                           0.098553   \n",
       "std                               5.933447                           5.908136   \n",
       "min                             -72.162006                        -479.959994   \n",
       "25%                               0.271005                           0.016605   \n",
       "50%                               0.476965                           0.191679   \n",
       "75%                               0.693583                           0.401751   \n",
       "max                             480.960001                          22.769001   \n",
       "\n",
       "       current_assets_over_short_term_liabilities  \\\n",
       "count                                25043.000000   \n",
       "mean                                     6.285753   \n",
       "std                                    339.973627   \n",
       "min                                     -0.044851   \n",
       "25%                                      1.037774   \n",
       "50%                                      1.553757   \n",
       "75%                                      2.767430   \n",
       "max                                  53433.000440   \n",
       "\n",
       "       cash_plus_short_term_securities_plus_receivables_minus_short_term_liabilities_over_operating_expenses_minus_depreciation_times_365  \\\n",
       "count                                       2.506400e+04                                                                                    \n",
       "mean                                       -9.125936e+01                                                                                    \n",
       "std                                         1.828476e+04                                                                                    \n",
       "min                                        -1.670200e+06                                                                                    \n",
       "25%                                        -5.058748e+01                                                                                    \n",
       "50%                                        -1.702077e+00                                                                                    \n",
       "75%                                         5.120627e+01                                                                                    \n",
       "max                                         1.034100e+06                                                                                    \n",
       "\n",
       "       retained_earnings_over_total_assets  EBIT_over_total_assets  \\\n",
       "count                         25118.000000            25118.000000   \n",
       "mean                             -0.067728                0.147535   \n",
       "std                               6.873121                5.835287   \n",
       "min                            -508.409992             -189.559992   \n",
       "25%                              -0.000010                0.005649   \n",
       "50%                               0.000003                0.060077   \n",
       "75%                               0.085018                0.153186   \n",
       "max                             322.199997              649.230003   \n",
       "\n",
       "       book_value_of_equity_over_total_liabilities  ...  \\\n",
       "count                                 25072.000000  ...   \n",
       "mean                                     15.153162  ...   \n",
       "std                                     611.473437  ...   \n",
       "min                                    -141.410220  ...   \n",
       "25%                                       0.422289  ...   \n",
       "50%                                       1.051214  ...   \n",
       "75%                                       2.593104  ...   \n",
       "max                                   53431.999474  ...   \n",
       "\n",
       "       sales_minus_cost_of_products_sold_over_sales  \\\n",
       "count                                  25044.000000   \n",
       "mean                                      -0.770713   \n",
       "std                                       72.977149   \n",
       "min                                    -8534.599415   \n",
       "25%                                        0.008843   \n",
       "50%                                        0.052831   \n",
       "75%                                        0.129194   \n",
       "max                                      293.158392   \n",
       "\n",
       "       current_assets_minus_inventory_minus_short_term_liabilities_over_sales_minus_gross_profit_minus_depreciation  \\\n",
       "count                                       25118.000000                                                              \n",
       "mean                                            0.098693                                                              \n",
       "std                                            10.380960                                                              \n",
       "min                                          -979.250019                                                              \n",
       "25%                                             0.015141                                                              \n",
       "50%                                             0.122515                                                              \n",
       "75%                                             0.293705                                                              \n",
       "max                                           552.639985                                                              \n",
       "\n",
       "       total_costs_overtotal_sales  long_term_liabilities_over_equity  \\\n",
       "count                 25068.000000                       25118.000000   \n",
       "mean                      4.429418                           1.597135   \n",
       "std                     383.343937                         152.441163   \n",
       "min                      -1.631820                        -327.970143   \n",
       "25%                       0.875577                          -0.000002   \n",
       "50%                       0.950947                           0.005193   \n",
       "75%                       0.993072                           0.241881   \n",
       "max                   59671.999668                       23853.000122   \n",
       "\n",
       "       sales_over_inventory  sales_over_receivables  \\\n",
       "count          2.383900e+04            25064.000000   \n",
       "mean           3.225273e+02               14.315634   \n",
       "std            1.606698e+04              120.835222   \n",
       "min           -4.066151e-02              -12.655400   \n",
       "25%            5.620743e+00                4.538417   \n",
       "50%            9.973974e+00                6.732840   \n",
       "75%            2.082144e+01               10.601720   \n",
       "max            2.137800e+06            12296.000520   \n",
       "\n",
       "       short_term_liabilities_times_365_over_sales  \\\n",
       "count                                 2.504400e+04   \n",
       "mean                                  7.394522e+02   \n",
       "std                                   5.627363e+04   \n",
       "min                                  -2.336500e+06   \n",
       "25%                                   4.158029e+01   \n",
       "50%                                   7.090939e+01   \n",
       "75%                                   1.169599e+02   \n",
       "max                                   7.276000e+06   \n",
       "\n",
       "       sales_over_short_term_liabilities  sales_over_fixed_assets  \\\n",
       "count                       25043.000000             24630.000000   \n",
       "mean                            9.835042                77.756289   \n",
       "std                           154.676272              2694.281611   \n",
       "min                            -0.367905            -10677.001615   \n",
       "25%                             3.100047                 2.185147   \n",
       "50%                             5.116548                 4.340603   \n",
       "75%                             8.708598                 9.892896   \n",
       "max                         23453.999855            294769.993913   \n",
       "\n",
       "              class  \n",
       "count  25121.000000  \n",
       "mean       0.044823  \n",
       "std        0.206919  \n",
       "min        0.000000  \n",
       "25%        0.000000  \n",
       "50%        0.000000  \n",
       "75%        0.000000  \n",
       "max        1.000000  \n",
       "\n",
       "[8 rows x 67 columns]"
      ]
     },
     "execution_count": 4,
     "metadata": {},
     "output_type": "execute_result"
    }
   ],
   "source": [
    "a = a.apply(pd.to_numeric, errors = 'coerce', downcast = 'integer')\n",
    "a.describe()\n"
   ]
  },
  {
   "cell_type": "code",
   "execution_count": 5,
   "id": "6bf76a22-e4ef-4537-acbf-5f7238820327",
   "metadata": {},
   "outputs": [
    {
     "data": {
      "text/plain": [
       "<AxesSubplot:>"
      ]
     },
     "execution_count": 5,
     "metadata": {},
     "output_type": "execute_result"
    },
    {
     "data": {
      "image/png": "[encoded data removed]",
      "text/plain": [
       "<Figure size 432x288 with 1 Axes>"
      ]
     },
     "metadata": {
      "needs_background": "light"
     },
     "output_type": "display_data"
    }
   ],
   "source": [
    "a['class'].value_counts().plot(kind='bar')"
   ]
  },
  {
   "cell_type": "raw",
   "id": "68017537-cb51-4079-a069-e469625bd5eb",
   "metadata": {},
   "source": [
    "Χωρίζουμε τα δεδομένα του train.csv σε train και test (80-20), random state 42"
   ]
  },
  {
   "cell_type": "code",
   "execution_count": 6,
   "id": "0b1d7505-523a-46c4-ae4c-0f7099058e4e",
   "metadata": {},
   "outputs": [],
   "source": [
    "X, y = a.iloc[:, 1:66], a.iloc[:,66]\n",
    "X_train, X_test, y_train, y_test =  train_test_split(X, y, test_size = .2, random_state = 10)"
   ]
  },
  {
   "cell_type": "raw",
   "id": "e36f3c11-b344-4df4-bb6b-761987bee989",
   "metadata": {},
   "source": [
    "Ξεκινάμε τη διαδικασία του Parameter Tuning για το μοντέλο μας: "
   ]
  },
  {
   "cell_type": "code",
   "execution_count": 7,
   "id": "03ac344b-439a-4ff7-9c9c-3a9223276f75",
   "metadata": {},
   "outputs": [
    {
     "data": {
      "text/plain": [
       "XGBClassifier(base_score=None, booster=None, callbacks=None,\n",
       "              colsample_bylevel=None, colsample_bynode=None,\n",
       "              colsample_bytree=None, early_stopping_rounds=None,\n",
       "              enable_categorical=False, eval_metric=None, gamma=None,\n",
       "              gpu_id=None, grow_policy=None, importance_type=None,\n",
       "              interaction_constraints=None, learning_rate=None, max_bin=None,\n",
       "              max_cat_to_onehot=None, max_delta_step=None, max_depth=None,\n",
       "              max_leaves=None, min_child_weight=None, missing=nan,\n",
       "              monotone_constraints=None, n_estimators=100, n_jobs=None,\n",
       "              num_parallel_tree=None, predictor=None, random_state=None,\n",
       "              reg_alpha=None, reg_lambda=None, ...)"
      ]
     },
     "execution_count": 7,
     "metadata": {},
     "output_type": "execute_result"
    }
   ],
   "source": [
    "xgb.XGBClassifier()"
   ]
  },
  {
   "cell_type": "raw",
   "id": "1f602539-e677-4c98-966c-46451b81a4ed",
   "metadata": {},
   "source": [
    "Υπολογίζουμε το scale pos weight , βρίσκοντας την μικρότερη και μεγαλύτερη τιμή. Επειδή έχουμε imbalanced data, πρέπει να χρησιμοποιήσουμε το scale_pos_weight στο parameter tuning"
   ]
  },
  {
   "cell_type": "code",
   "execution_count": 8,
   "id": "05d38a48-5b93-473c-a2e0-5eceeaa6eda5",
   "metadata": {},
   "outputs": [
    {
     "name": "stdout",
     "output_type": "stream",
     "text": [
      "901 19195 4.615637176845651\n"
     ]
    }
   ],
   "source": [
    "smallest = y_train.sum()\n",
    "largest = len(y_train) - smallest\n",
    "spw = math.sqrt(largest / smallest)\n",
    "print(smallest, largest, spw)"
   ]
  },
  {
   "cell_type": "raw",
   "id": "6cb056f1-b50d-4317-9759-6fbe137c9961",
   "metadata": {},
   "source": [
    "Έπειτα κάνουμε ένα απλό test με τον XGBClassifier, χωρίς να εφαρμόσουμε cross validation και gridsearch για τις βέλτιστες παραμέτρους.\n",
    "\n",
    "Σκοπός είναι να κάνουμε ένα απλό τεστ του αλγορίθμου με κάποιες βασικές παραμέτρους ώστε να γνωρίζουμε που πρέπει να εστιάσουμε.\n",
    "\n",
    "Το model1 που δημιουργούμε δεν θα το χρησιμοποιήσουμε για προβλέψεις."
   ]
  },
  {
   "cell_type": "code",
   "execution_count": 9,
   "id": "faac951f-141d-47d4-b74a-4768a198aca8",
   "metadata": {},
   "outputs": [
    {
     "name": "stdout",
     "output_type": "stream",
     "text": [
      "Train accuracy 0.9983081210191083\n",
      "Test accuracy 0.9781094527363184\n",
      "              precision    recall  f1-score   support\n",
      "\n",
      "           0       0.98      1.00      0.99      4800\n",
      "           1       0.89      0.58      0.70       225\n",
      "\n",
      "    accuracy                           0.98      5025\n",
      "   macro avg       0.94      0.79      0.85      5025\n",
      "weighted avg       0.98      0.98      0.98      5025\n",
      "\n"
     ]
    },
    {
     "data": {
      "text/html": [
       "<div>\n",
       "<style scoped>\n",
       "    .dataframe tbody tr th:only-of-type {\n",
       "        vertical-align: middle;\n",
       "    }\n",
       "\n",
       "    .dataframe tbody tr th {\n",
       "        vertical-align: top;\n",
       "    }\n",
       "\n",
       "    .dataframe thead th {\n",
       "        text-align: right;\n",
       "    }\n",
       "</style>\n",
       "<table border=\"1\" class=\"dataframe\">\n",
       "  <thead>\n",
       "    <tr style=\"text-align: right;\">\n",
       "      <th>col_0</th>\n",
       "      <th>0</th>\n",
       "      <th>1</th>\n",
       "    </tr>\n",
       "    <tr>\n",
       "      <th>class</th>\n",
       "      <th></th>\n",
       "      <th></th>\n",
       "    </tr>\n",
       "  </thead>\n",
       "  <tbody>\n",
       "    <tr>\n",
       "      <th>0</th>\n",
       "      <td>4784</td>\n",
       "      <td>16</td>\n",
       "    </tr>\n",
       "    <tr>\n",
       "      <th>1</th>\n",
       "      <td>94</td>\n",
       "      <td>131</td>\n",
       "    </tr>\n",
       "  </tbody>\n",
       "</table>\n",
       "</div>"
      ],
      "text/plain": [
       "col_0     0    1\n",
       "class           \n",
       "0      4784   16\n",
       "1        94  131"
      ]
     },
     "execution_count": 9,
     "metadata": {},
     "output_type": "execute_result"
    }
   ],
   "source": [
    "model1 = xgb.XGBClassifier(max_depth = 6,\n",
    "                          subsample = 1,\n",
    "                          n_estimators = 100,\n",
    "                          learning_rate = 0.1,\n",
    "                          random_state = 5,\n",
    "                          scale_pos_weight = spw\n",
    "                          )\n",
    "model1.fit(X_train, y_train)\n",
    "y_predict = model1.predict(X_test)\n",
    "y_train_predict = model1.predict(X_train)\n",
    "print('Train accuracy',accuracy_score(y_train, y_train_predict))\n",
    "print('Test accuracy',accuracy_score(y_test, y_predict))\n",
    "print(classification_report(y_test, y_predict))\n",
    "pd.crosstab(y_test, y_predict)"
   ]
  },
  {
   "cell_type": "markdown",
   "id": "6141f908-0aa7-4cd1-8e4f-b1d5d4b7b2d9",
   "metadata": {},
   "source": [
    "##### Παρατηρούμε ότι χωρίς parameter tuning έχουμε αρκετά χαμηλό f1 score για τις εταιρείες που θα χρεοκοπήσουν\n",
    "\n",
    "Επιπλέον, παρατηρούμε ότι έχουμε 16 εταιρείες που δεν έχουν χρεοκοπήσει και καταχωρήθηκαν ως χρεοκοπημένες.\n",
    "Γεγονός που δεν μας επηρεάζει σημαντικά.\n",
    "\n",
    "Σημαντικό όμως είναι το γεγονός ότι έχουμε 94 χρεοκοπημένες εταιρείες που έχουν καταχωρηθεί ως μη χρεοκοπημένες.\n",
    "\n",
    "Επομένως πρέπει να πραγματοποιήσουμε καλύτερο hyperparameter tuning για το μοντέλο μας. Αυτό, θα επιτευχθεί χρησιμοποιώντας την μέθοδο GridsearchCV, έτσι ώστε να βρεθούν οι βέλτιστες τιμές σε παραμέτρους που θα μας αποφέρουν υψηλότερο f1 score.\n"
   ]
  },
  {
   "cell_type": "code",
   "execution_count": 10,
   "id": "4bc6d3ea-d565-4b64-92ef-a142fd81f5c1",
   "metadata": {},
   "outputs": [
    {
     "name": "stdout",
     "output_type": "stream",
     "text": [
      "Fitting 5 folds for each of 16 candidates, totalling 80 fits\n",
      "[CV 1/5] END colsample_bylevel=0.75, colsample_bytree=0.75, eval_metric=logloss, learning_rate=0.1, max_depth=6, min_child_weight=5, n_estimators=100, objective=binary:logistic, scale_pos_weight=4.615637176845651, subsample=0.5;, score=0.703 total time=   0.9s\n",
      "[CV 2/5] END colsample_bylevel=0.75, colsample_bytree=0.75, eval_metric=logloss, learning_rate=0.1, max_depth=6, min_child_weight=5, n_estimators=100, objective=binary:logistic, scale_pos_weight=4.615637176845651, subsample=0.5;, score=0.635 total time=   0.4s\n",
      "[CV 3/5] END colsample_bylevel=0.75, colsample_bytree=0.75, eval_metric=logloss, learning_rate=0.1, max_depth=6, min_child_weight=5, n_estimators=100, objective=binary:logistic, scale_pos_weight=4.615637176845651, subsample=0.5;, score=0.622 total time=   0.4s\n",
      "[CV 4/5] END colsample_bylevel=0.75, colsample_bytree=0.75, eval_metric=logloss, learning_rate=0.1, max_depth=6, min_child_weight=5, n_estimators=100, objective=binary:logistic, scale_pos_weight=4.615637176845651, subsample=0.5;, score=0.594 total time=   0.4s\n",
      "[CV 5/5] END colsample_bylevel=0.75, colsample_bytree=0.75, eval_metric=logloss, learning_rate=0.1, max_depth=6, min_child_weight=5, n_estimators=100, objective=binary:logistic, scale_pos_weight=4.615637176845651, subsample=0.5;, score=0.655 total time=   0.4s\n",
      "[CV 1/5] END colsample_bylevel=0.75, colsample_bytree=0.75, eval_metric=logloss, learning_rate=0.1, max_depth=6, min_child_weight=5, n_estimators=100, objective=binary:logistic, scale_pos_weight=4.615637176845651, subsample=0.75;, score=0.741 total time=   0.4s\n",
      "[CV 2/5] END colsample_bylevel=0.75, colsample_bytree=0.75, eval_metric=logloss, learning_rate=0.1, max_depth=6, min_child_weight=5, n_estimators=100, objective=binary:logistic, scale_pos_weight=4.615637176845651, subsample=0.75;, score=0.675 total time=   0.4s\n",
      "[CV 3/5] END colsample_bylevel=0.75, colsample_bytree=0.75, eval_metric=logloss, learning_rate=0.1, max_depth=6, min_child_weight=5, n_estimators=100, objective=binary:logistic, scale_pos_weight=4.615637176845651, subsample=0.75;, score=0.649 total time=   0.4s\n",
      "[CV 4/5] END colsample_bylevel=0.75, colsample_bytree=0.75, eval_metric=logloss, learning_rate=0.1, max_depth=6, min_child_weight=5, n_estimators=100, objective=binary:logistic, scale_pos_weight=4.615637176845651, subsample=0.75;, score=0.625 total time=   0.4s\n",
      "[CV 5/5] END colsample_bylevel=0.75, colsample_bytree=0.75, eval_metric=logloss, learning_rate=0.1, max_depth=6, min_child_weight=5, n_estimators=100, objective=binary:logistic, scale_pos_weight=4.615637176845651, subsample=0.75;, score=0.701 total time=   0.4s\n",
      "[CV 1/5] END colsample_bylevel=0.75, colsample_bytree=0.75, eval_metric=logloss, learning_rate=0.1, max_depth=6, min_child_weight=5, n_estimators=200, objective=binary:logistic, scale_pos_weight=4.615637176845651, subsample=0.5;, score=0.703 total time=   0.7s\n",
      "[CV 2/5] END colsample_bylevel=0.75, colsample_bytree=0.75, eval_metric=logloss, learning_rate=0.1, max_depth=6, min_child_weight=5, n_estimators=200, objective=binary:logistic, scale_pos_weight=4.615637176845651, subsample=0.5;, score=0.658 total time=   0.7s\n",
      "[CV 3/5] END colsample_bylevel=0.75, colsample_bytree=0.75, eval_metric=logloss, learning_rate=0.1, max_depth=6, min_child_weight=5, n_estimators=200, objective=binary:logistic, scale_pos_weight=4.615637176845651, subsample=0.5;, score=0.639 total time=   0.7s\n",
      "[CV 4/5] END colsample_bylevel=0.75, colsample_bytree=0.75, eval_metric=logloss, learning_rate=0.1, max_depth=6, min_child_weight=5, n_estimators=200, objective=binary:logistic, scale_pos_weight=4.615637176845651, subsample=0.5;, score=0.590 total time=   0.7s\n",
      "[CV 5/5] END colsample_bylevel=0.75, colsample_bytree=0.75, eval_metric=logloss, learning_rate=0.1, max_depth=6, min_child_weight=5, n_estimators=200, objective=binary:logistic, scale_pos_weight=4.615637176845651, subsample=0.5;, score=0.667 total time=   0.7s\n",
      "[CV 1/5] END colsample_bylevel=0.75, colsample_bytree=0.75, eval_metric=logloss, learning_rate=0.1, max_depth=6, min_child_weight=5, n_estimators=200, objective=binary:logistic, scale_pos_weight=4.615637176845651, subsample=0.75;, score=0.739 total time=   0.7s\n",
      "[CV 2/5] END colsample_bylevel=0.75, colsample_bytree=0.75, eval_metric=logloss, learning_rate=0.1, max_depth=6, min_child_weight=5, n_estimators=200, objective=binary:logistic, scale_pos_weight=4.615637176845651, subsample=0.75;, score=0.655 total time=   0.7s\n",
      "[CV 3/5] END colsample_bylevel=0.75, colsample_bytree=0.75, eval_metric=logloss, learning_rate=0.1, max_depth=6, min_child_weight=5, n_estimators=200, objective=binary:logistic, scale_pos_weight=4.615637176845651, subsample=0.75;, score=0.669 total time=   0.7s\n",
      "[CV 4/5] END colsample_bylevel=0.75, colsample_bytree=0.75, eval_metric=logloss, learning_rate=0.1, max_depth=6, min_child_weight=5, n_estimators=200, objective=binary:logistic, scale_pos_weight=4.615637176845651, subsample=0.75;, score=0.603 total time=   0.7s\n",
      "[CV 5/5] END colsample_bylevel=0.75, colsample_bytree=0.75, eval_metric=logloss, learning_rate=0.1, max_depth=6, min_child_weight=5, n_estimators=200, objective=binary:logistic, scale_pos_weight=4.615637176845651, subsample=0.75;, score=0.685 total time=   0.7s\n",
      "[CV 1/5] END colsample_bylevel=0.75, colsample_bytree=0.75, eval_metric=logloss, learning_rate=0.1, max_depth=6, min_child_weight=15, n_estimators=100, objective=binary:logistic, scale_pos_weight=4.615637176845651, subsample=0.5;, score=0.702 total time=   0.4s\n",
      "[CV 2/5] END colsample_bylevel=0.75, colsample_bytree=0.75, eval_metric=logloss, learning_rate=0.1, max_depth=6, min_child_weight=15, n_estimators=100, objective=binary:logistic, scale_pos_weight=4.615637176845651, subsample=0.5;, score=0.641 total time=   0.4s\n",
      "[CV 3/5] END colsample_bylevel=0.75, colsample_bytree=0.75, eval_metric=logloss, learning_rate=0.1, max_depth=6, min_child_weight=15, n_estimators=100, objective=binary:logistic, scale_pos_weight=4.615637176845651, subsample=0.5;, score=0.667 total time=   0.3s\n",
      "[CV 4/5] END colsample_bylevel=0.75, colsample_bytree=0.75, eval_metric=logloss, learning_rate=0.1, max_depth=6, min_child_weight=15, n_estimators=100, objective=binary:logistic, scale_pos_weight=4.615637176845651, subsample=0.5;, score=0.588 total time=   0.4s\n",
      "[CV 5/5] END colsample_bylevel=0.75, colsample_bytree=0.75, eval_metric=logloss, learning_rate=0.1, max_depth=6, min_child_weight=15, n_estimators=100, objective=binary:logistic, scale_pos_weight=4.615637176845651, subsample=0.5;, score=0.656 total time=   0.4s\n",
      "[CV 1/5] END colsample_bylevel=0.75, colsample_bytree=0.75, eval_metric=logloss, learning_rate=0.1, max_depth=6, min_child_weight=15, n_estimators=100, objective=binary:logistic, scale_pos_weight=4.615637176845651, subsample=0.75;, score=0.713 total time=   0.4s\n",
      "[CV 2/5] END colsample_bylevel=0.75, colsample_bytree=0.75, eval_metric=logloss, learning_rate=0.1, max_depth=6, min_child_weight=15, n_estimators=100, objective=binary:logistic, scale_pos_weight=4.615637176845651, subsample=0.75;, score=0.675 total time=   0.4s\n",
      "[CV 3/5] END colsample_bylevel=0.75, colsample_bytree=0.75, eval_metric=logloss, learning_rate=0.1, max_depth=6, min_child_weight=15, n_estimators=100, objective=binary:logistic, scale_pos_weight=4.615637176845651, subsample=0.75;, score=0.658 total time=   0.4s\n",
      "[CV 4/5] END colsample_bylevel=0.75, colsample_bytree=0.75, eval_metric=logloss, learning_rate=0.1, max_depth=6, min_child_weight=15, n_estimators=100, objective=binary:logistic, scale_pos_weight=4.615637176845651, subsample=0.75;, score=0.640 total time=   0.4s\n",
      "[CV 5/5] END colsample_bylevel=0.75, colsample_bytree=0.75, eval_metric=logloss, learning_rate=0.1, max_depth=6, min_child_weight=15, n_estimators=100, objective=binary:logistic, scale_pos_weight=4.615637176845651, subsample=0.75;, score=0.704 total time=   0.4s\n",
      "[CV 1/5] END colsample_bylevel=0.75, colsample_bytree=0.75, eval_metric=logloss, learning_rate=0.1, max_depth=6, min_child_weight=15, n_estimators=200, objective=binary:logistic, scale_pos_weight=4.615637176845651, subsample=0.5;, score=0.703 total time=   0.6s\n",
      "[CV 2/5] END colsample_bylevel=0.75, colsample_bytree=0.75, eval_metric=logloss, learning_rate=0.1, max_depth=6, min_child_weight=15, n_estimators=200, objective=binary:logistic, scale_pos_weight=4.615637176845651, subsample=0.5;, score=0.665 total time=   0.6s\n",
      "[CV 3/5] END colsample_bylevel=0.75, colsample_bytree=0.75, eval_metric=logloss, learning_rate=0.1, max_depth=6, min_child_weight=15, n_estimators=200, objective=binary:logistic, scale_pos_weight=4.615637176845651, subsample=0.5;, score=0.667 total time=   0.6s\n",
      "[CV 4/5] END colsample_bylevel=0.75, colsample_bytree=0.75, eval_metric=logloss, learning_rate=0.1, max_depth=6, min_child_weight=15, n_estimators=200, objective=binary:logistic, scale_pos_weight=4.615637176845651, subsample=0.5;, score=0.589 total time=   0.6s\n",
      "[CV 5/5] END colsample_bylevel=0.75, colsample_bytree=0.75, eval_metric=logloss, learning_rate=0.1, max_depth=6, min_child_weight=15, n_estimators=200, objective=binary:logistic, scale_pos_weight=4.615637176845651, subsample=0.5;, score=0.667 total time=   0.6s\n",
      "[CV 1/5] END colsample_bylevel=0.75, colsample_bytree=0.75, eval_metric=logloss, learning_rate=0.1, max_depth=6, min_child_weight=15, n_estimators=200, objective=binary:logistic, scale_pos_weight=4.615637176845651, subsample=0.75;, score=0.730 total time=   0.6s\n",
      "[CV 2/5] END colsample_bylevel=0.75, colsample_bytree=0.75, eval_metric=logloss, learning_rate=0.1, max_depth=6, min_child_weight=15, n_estimators=200, objective=binary:logistic, scale_pos_weight=4.615637176845651, subsample=0.75;, score=0.684 total time=   0.6s\n",
      "[CV 3/5] END colsample_bylevel=0.75, colsample_bytree=0.75, eval_metric=logloss, learning_rate=0.1, max_depth=6, min_child_weight=15, n_estimators=200, objective=binary:logistic, scale_pos_weight=4.615637176845651, subsample=0.75;, score=0.662 total time=   0.6s\n",
      "[CV 4/5] END colsample_bylevel=0.75, colsample_bytree=0.75, eval_metric=logloss, learning_rate=0.1, max_depth=6, min_child_weight=15, n_estimators=200, objective=binary:logistic, scale_pos_weight=4.615637176845651, subsample=0.75;, score=0.641 total time=   0.6s\n",
      "[CV 5/5] END colsample_bylevel=0.75, colsample_bytree=0.75, eval_metric=logloss, learning_rate=0.1, max_depth=6, min_child_weight=15, n_estimators=200, objective=binary:logistic, scale_pos_weight=4.615637176845651, subsample=0.75;, score=0.704 total time=   0.6s\n",
      "[CV 1/5] END colsample_bylevel=0.75, colsample_bytree=0.75, eval_metric=logloss, learning_rate=0.5, max_depth=6, min_child_weight=5, n_estimators=100, objective=binary:logistic, scale_pos_weight=4.615637176845651, subsample=0.5;, score=0.669 total time=   0.3s\n",
      "[CV 2/5] END colsample_bylevel=0.75, colsample_bytree=0.75, eval_metric=logloss, learning_rate=0.5, max_depth=6, min_child_weight=5, n_estimators=100, objective=binary:logistic, scale_pos_weight=4.615637176845651, subsample=0.5;, score=0.610 total time=   0.3s\n",
      "[CV 3/5] END colsample_bylevel=0.75, colsample_bytree=0.75, eval_metric=logloss, learning_rate=0.5, max_depth=6, min_child_weight=5, n_estimators=100, objective=binary:logistic, scale_pos_weight=4.615637176845651, subsample=0.5;, score=0.575 total time=   0.3s\n",
      "[CV 4/5] END colsample_bylevel=0.75, colsample_bytree=0.75, eval_metric=logloss, learning_rate=0.5, max_depth=6, min_child_weight=5, n_estimators=100, objective=binary:logistic, scale_pos_weight=4.615637176845651, subsample=0.5;, score=0.520 total time=   0.3s\n",
      "[CV 5/5] END colsample_bylevel=0.75, colsample_bytree=0.75, eval_metric=logloss, learning_rate=0.5, max_depth=6, min_child_weight=5, n_estimators=100, objective=binary:logistic, scale_pos_weight=4.615637176845651, subsample=0.5;, score=0.643 total time=   0.3s\n",
      "[CV 1/5] END colsample_bylevel=0.75, colsample_bytree=0.75, eval_metric=logloss, learning_rate=0.5, max_depth=6, min_child_weight=5, n_estimators=100, objective=binary:logistic, scale_pos_weight=4.615637176845651, subsample=0.75;, score=0.669 total time=   0.4s\n",
      "[CV 2/5] END colsample_bylevel=0.75, colsample_bytree=0.75, eval_metric=logloss, learning_rate=0.5, max_depth=6, min_child_weight=5, n_estimators=100, objective=binary:logistic, scale_pos_weight=4.615637176845651, subsample=0.75;, score=0.632 total time=   0.3s\n",
      "[CV 3/5] END colsample_bylevel=0.75, colsample_bytree=0.75, eval_metric=logloss, learning_rate=0.5, max_depth=6, min_child_weight=5, n_estimators=100, objective=binary:logistic, scale_pos_weight=4.615637176845651, subsample=0.75;, score=0.660 total time=   0.4s\n",
      "[CV 4/5] END colsample_bylevel=0.75, colsample_bytree=0.75, eval_metric=logloss, learning_rate=0.5, max_depth=6, min_child_weight=5, n_estimators=100, objective=binary:logistic, scale_pos_weight=4.615637176845651, subsample=0.75;, score=0.570 total time=   0.3s\n",
      "[CV 5/5] END colsample_bylevel=0.75, colsample_bytree=0.75, eval_metric=logloss, learning_rate=0.5, max_depth=6, min_child_weight=5, n_estimators=100, objective=binary:logistic, scale_pos_weight=4.615637176845651, subsample=0.75;, score=0.671 total time=   0.3s\n",
      "[CV 1/5] END colsample_bylevel=0.75, colsample_bytree=0.75, eval_metric=logloss, learning_rate=0.5, max_depth=6, min_child_weight=5, n_estimators=200, objective=binary:logistic, scale_pos_weight=4.615637176845651, subsample=0.5;, score=0.681 total time=   0.5s\n",
      "[CV 2/5] END colsample_bylevel=0.75, colsample_bytree=0.75, eval_metric=logloss, learning_rate=0.5, max_depth=6, min_child_weight=5, n_estimators=200, objective=binary:logistic, scale_pos_weight=4.615637176845651, subsample=0.5;, score=0.591 total time=   0.5s\n",
      "[CV 3/5] END colsample_bylevel=0.75, colsample_bytree=0.75, eval_metric=logloss, learning_rate=0.5, max_depth=6, min_child_weight=5, n_estimators=200, objective=binary:logistic, scale_pos_weight=4.615637176845651, subsample=0.5;, score=0.593 total time=   0.5s\n",
      "[CV 4/5] END colsample_bylevel=0.75, colsample_bytree=0.75, eval_metric=logloss, learning_rate=0.5, max_depth=6, min_child_weight=5, n_estimators=200, objective=binary:logistic, scale_pos_weight=4.615637176845651, subsample=0.5;, score=0.541 total time=   0.5s\n",
      "[CV 5/5] END colsample_bylevel=0.75, colsample_bytree=0.75, eval_metric=logloss, learning_rate=0.5, max_depth=6, min_child_weight=5, n_estimators=200, objective=binary:logistic, scale_pos_weight=4.615637176845651, subsample=0.5;, score=0.618 total time=   0.5s\n",
      "[CV 1/5] END colsample_bylevel=0.75, colsample_bytree=0.75, eval_metric=logloss, learning_rate=0.5, max_depth=6, min_child_weight=5, n_estimators=200, objective=binary:logistic, scale_pos_weight=4.615637176845651, subsample=0.75;, score=0.701 total time=   0.5s\n",
      "[CV 2/5] END colsample_bylevel=0.75, colsample_bytree=0.75, eval_metric=logloss, learning_rate=0.5, max_depth=6, min_child_weight=5, n_estimators=200, objective=binary:logistic, scale_pos_weight=4.615637176845651, subsample=0.75;, score=0.634 total time=   0.6s\n",
      "[CV 3/5] END colsample_bylevel=0.75, colsample_bytree=0.75, eval_metric=logloss, learning_rate=0.5, max_depth=6, min_child_weight=5, n_estimators=200, objective=binary:logistic, scale_pos_weight=4.615637176845651, subsample=0.75;, score=0.671 total time=   0.6s\n",
      "[CV 4/5] END colsample_bylevel=0.75, colsample_bytree=0.75, eval_metric=logloss, learning_rate=0.5, max_depth=6, min_child_weight=5, n_estimators=200, objective=binary:logistic, scale_pos_weight=4.615637176845651, subsample=0.75;, score=0.613 total time=   0.5s\n",
      "[CV 5/5] END colsample_bylevel=0.75, colsample_bytree=0.75, eval_metric=logloss, learning_rate=0.5, max_depth=6, min_child_weight=5, n_estimators=200, objective=binary:logistic, scale_pos_weight=4.615637176845651, subsample=0.75;, score=0.667 total time=   0.5s\n",
      "[CV 1/5] END colsample_bylevel=0.75, colsample_bytree=0.75, eval_metric=logloss, learning_rate=0.5, max_depth=6, min_child_weight=15, n_estimators=100, objective=binary:logistic, scale_pos_weight=4.615637176845651, subsample=0.5;, score=0.633 total time=   0.3s\n",
      "[CV 2/5] END colsample_bylevel=0.75, colsample_bytree=0.75, eval_metric=logloss, learning_rate=0.5, max_depth=6, min_child_weight=15, n_estimators=100, objective=binary:logistic, scale_pos_weight=4.615637176845651, subsample=0.5;, score=0.599 total time=   0.3s\n",
      "[CV 3/5] END colsample_bylevel=0.75, colsample_bytree=0.75, eval_metric=logloss, learning_rate=0.5, max_depth=6, min_child_weight=15, n_estimators=100, objective=binary:logistic, scale_pos_weight=4.615637176845651, subsample=0.5;, score=0.588 total time=   0.3s\n",
      "[CV 4/5] END colsample_bylevel=0.75, colsample_bytree=0.75, eval_metric=logloss, learning_rate=0.5, max_depth=6, min_child_weight=15, n_estimators=100, objective=binary:logistic, scale_pos_weight=4.615637176845651, subsample=0.5;, score=0.513 total time=   0.3s\n",
      "[CV 5/5] END colsample_bylevel=0.75, colsample_bytree=0.75, eval_metric=logloss, learning_rate=0.5, max_depth=6, min_child_weight=15, n_estimators=100, objective=binary:logistic, scale_pos_weight=4.615637176845651, subsample=0.5;, score=0.566 total time=   0.3s\n",
      "[CV 1/5] END colsample_bylevel=0.75, colsample_bytree=0.75, eval_metric=logloss, learning_rate=0.5, max_depth=6, min_child_weight=15, n_estimators=100, objective=binary:logistic, scale_pos_weight=4.615637176845651, subsample=0.75;, score=0.659 total time=   0.3s\n",
      "[CV 2/5] END colsample_bylevel=0.75, colsample_bytree=0.75, eval_metric=logloss, learning_rate=0.5, max_depth=6, min_child_weight=15, n_estimators=100, objective=binary:logistic, scale_pos_weight=4.615637176845651, subsample=0.75;, score=0.594 total time=   0.3s\n",
      "[CV 3/5] END colsample_bylevel=0.75, colsample_bytree=0.75, eval_metric=logloss, learning_rate=0.5, max_depth=6, min_child_weight=15, n_estimators=100, objective=binary:logistic, scale_pos_weight=4.615637176845651, subsample=0.75;, score=0.656 total time=   0.3s\n",
      "[CV 4/5] END colsample_bylevel=0.75, colsample_bytree=0.75, eval_metric=logloss, learning_rate=0.5, max_depth=6, min_child_weight=15, n_estimators=100, objective=binary:logistic, scale_pos_weight=4.615637176845651, subsample=0.75;, score=0.597 total time=   0.3s\n",
      "[CV 5/5] END colsample_bylevel=0.75, colsample_bytree=0.75, eval_metric=logloss, learning_rate=0.5, max_depth=6, min_child_weight=15, n_estimators=100, objective=binary:logistic, scale_pos_weight=4.615637176845651, subsample=0.75;, score=0.626 total time=   0.3s\n",
      "[CV 1/5] END colsample_bylevel=0.75, colsample_bytree=0.75, eval_metric=logloss, learning_rate=0.5, max_depth=6, min_child_weight=15, n_estimators=200, objective=binary:logistic, scale_pos_weight=4.615637176845651, subsample=0.5;, score=0.641 total time=   0.5s\n",
      "[CV 2/5] END colsample_bylevel=0.75, colsample_bytree=0.75, eval_metric=logloss, learning_rate=0.5, max_depth=6, min_child_weight=15, n_estimators=200, objective=binary:logistic, scale_pos_weight=4.615637176845651, subsample=0.5;, score=0.608 total time=   0.5s\n",
      "[CV 3/5] END colsample_bylevel=0.75, colsample_bytree=0.75, eval_metric=logloss, learning_rate=0.5, max_depth=6, min_child_weight=15, n_estimators=200, objective=binary:logistic, scale_pos_weight=4.615637176845651, subsample=0.5;, score=0.573 total time=   0.5s\n",
      "[CV 4/5] END colsample_bylevel=0.75, colsample_bytree=0.75, eval_metric=logloss, learning_rate=0.5, max_depth=6, min_child_weight=15, n_estimators=200, objective=binary:logistic, scale_pos_weight=4.615637176845651, subsample=0.5;, score=0.549 total time=   0.5s\n",
      "[CV 5/5] END colsample_bylevel=0.75, colsample_bytree=0.75, eval_metric=logloss, learning_rate=0.5, max_depth=6, min_child_weight=15, n_estimators=200, objective=binary:logistic, scale_pos_weight=4.615637176845651, subsample=0.5;, score=0.606 total time=   0.5s\n",
      "[CV 1/5] END colsample_bylevel=0.75, colsample_bytree=0.75, eval_metric=logloss, learning_rate=0.5, max_depth=6, min_child_weight=15, n_estimators=200, objective=binary:logistic, scale_pos_weight=4.615637176845651, subsample=0.75;, score=0.685 total time=   0.5s\n",
      "[CV 2/5] END colsample_bylevel=0.75, colsample_bytree=0.75, eval_metric=logloss, learning_rate=0.5, max_depth=6, min_child_weight=15, n_estimators=200, objective=binary:logistic, scale_pos_weight=4.615637176845651, subsample=0.75;, score=0.633 total time=   0.5s\n",
      "[CV 3/5] END colsample_bylevel=0.75, colsample_bytree=0.75, eval_metric=logloss, learning_rate=0.5, max_depth=6, min_child_weight=15, n_estimators=200, objective=binary:logistic, scale_pos_weight=4.615637176845651, subsample=0.75;, score=0.660 total time=   0.5s\n",
      "[CV 4/5] END colsample_bylevel=0.75, colsample_bytree=0.75, eval_metric=logloss, learning_rate=0.5, max_depth=6, min_child_weight=15, n_estimators=200, objective=binary:logistic, scale_pos_weight=4.615637176845651, subsample=0.75;, score=0.575 total time=   0.5s\n",
      "[CV 5/5] END colsample_bylevel=0.75, colsample_bytree=0.75, eval_metric=logloss, learning_rate=0.5, max_depth=6, min_child_weight=15, n_estimators=200, objective=binary:logistic, scale_pos_weight=4.615637176845651, subsample=0.75;, score=0.662 total time=   0.5s\n",
      "Best parametrs found:  {'colsample_bylevel': 0.75, 'colsample_bytree': 0.75, 'eval_metric': 'logloss', 'learning_rate': 0.1, 'max_depth': 6, 'min_child_weight': 15, 'n_estimators': 200, 'objective': 'binary:logistic', 'scale_pos_weight': 4.615637176845651, 'subsample': 0.75}\n",
      "Best accuracy found:  0.6842943605600555\n"
     ]
    }
   ],
   "source": [
    "\n",
    "paramGrid = {\n",
    "    \n",
    "    'max_depth': [6],\n",
    "    'subsample': [0.5, 0.75],\n",
    "    'colsample_bytree': [0.75],\n",
    "    'learning_rate': [0.1, 0.5],\n",
    "    'n_estimators': [100, 200],\n",
    "    'min_child_weight': [5, 15],\n",
    "    'colsample_bylevel': [0.75],\n",
    "    'scale_pos_weight': [spw],\n",
    "    'objective' : ['binary:logistic'],\n",
    "    'eval_metric' : ['logloss'],\n",
    "    }\n",
    "xgb_clf = xgb.XGBClassifier(tree_method='gpu_hist', gpu_id=0)\n",
    "\n",
    "cv = StratifiedKFold()\n",
    "\n",
    "xgb_rs = GridSearchCV(estimator=xgb_clf, param_grid=paramGrid, scoring='f1', refit ='f1', cv=cv, verbose=4 )\n",
    "\n",
    "xgb_rs.fit(X_train, y_train)\n",
    "\n",
    "print(\"Best parametrs found: \", xgb_rs.best_params_)\n",
    "print(\"Best accuracy found: \", xgb_rs.best_score_)"
   ]
  },
  {
   "cell_type": "raw",
   "id": "722121ab-f1bc-40ce-88b2-30e24e8fb5e7",
   "metadata": {},
   "source": [
    "Πλέον έχουμε βρεί τις καλύτερες παραμέτρους και estimators."
   ]
  },
  {
   "cell_type": "code",
   "execution_count": 12,
   "id": "4c7a2d15-02e3-4b95-9e91-241b22f13c99",
   "metadata": {},
   "outputs": [
    {
     "name": "stdout",
     "output_type": "stream",
     "text": [
      "Best parameters found:  {'colsample_bylevel': 0.75, 'colsample_bytree': 0.75, 'eval_metric': 'logloss', 'learning_rate': 0.1, 'max_depth': 6, 'min_child_weight': 15, 'n_estimators': 200, 'objective': 'binary:logistic', 'scale_pos_weight': 4.615637176845651, 'subsample': 0.75}\n",
      "Best accuracy found:  0.6842943605600555\n",
      "Best estimator  XGBClassifier(base_score=0.5, booster='gbtree', callbacks=None,\n",
      "              colsample_bylevel=0.75, colsample_bynode=1, colsample_bytree=0.75,\n",
      "              early_stopping_rounds=None, enable_categorical=False,\n",
      "              eval_metric='logloss', gamma=0, gpu_id=0, grow_policy='depthwise',\n",
      "              importance_type=None, interaction_constraints='',\n",
      "              learning_rate=0.1, max_bin=256, max_cat_to_onehot=4,\n",
      "              max_delta_step=0, max_depth=6, max_leaves=0, min_child_weight=15,\n",
      "              missing=nan, monotone_constraints='()', n_estimators=200,\n",
      "              n_jobs=0, num_parallel_tree=1, predictor='auto', random_state=0,\n",
      "              reg_alpha=0, reg_lambda=1, ...)\n"
     ]
    }
   ],
   "source": [
    "print(\"Best parameters found: \", xgb_rs.best_params_)\n",
    "print(\"Best accuracy found: \", xgb_rs.best_score_)\n",
    "print(\"Best estimator \", xgb_rs.best_estimator_)"
   ]
  },
  {
   "cell_type": "raw",
   "id": "f7057632-9c12-44d0-a8ba-517d368bc348",
   "metadata": {},
   "source": [
    "Εφαρμόζουμε τον καλύτερο estimator στο μοντέλο μας, και επιλέγουμε threshold 0.51. Αφού κατόπιν δοκιμών αποφέρει το καλύτερο f1 score"
   ]
  },
  {
   "cell_type": "code",
   "execution_count": 13,
   "id": "856f87ed-88ba-429d-b8e4-00caba088fbb",
   "metadata": {},
   "outputs": [
    {
     "name": "stdout",
     "output_type": "stream",
     "text": [
      "0.9793034825870647\n",
      "0.7346938775510203\n"
     ]
    }
   ],
   "source": [
    "best = xgb_rs.best_estimator_\n",
    "preds = (xgb_rs.predict_proba(X_test)[:,1] >= 0.51).astype(int)\n",
    "print(accuracy_score(y_test, preds))\n",
    "print(f1_score(y_test, preds))\n"
   ]
  },
  {
   "cell_type": "raw",
   "id": "7ba65adc-8e31-4193-b9e8-cb6566bcefa7",
   "metadata": {},
   "source": [
    "Εφαρμόζουμε τις βέλτιστες τιμές παραμέτρω στον XGBClassifier και εκπαιδεύουμε το μοντέλο μας σε όλα τα δεδομένα."
   ]
  },
  {
   "cell_type": "code",
   "execution_count": 14,
   "id": "b138ddbf-9063-49e9-a98f-638bae085dac",
   "metadata": {},
   "outputs": [
    {
     "name": "stdout",
     "output_type": "stream",
     "text": [
      "Fitting 5 folds for each of 1 candidates, totalling 5 fits\n",
      "[CV 1/5] END colsample_bylevel=0.75, colsample_bytree=0.75, eval_metric=logloss, learning_rate=0.1, max_depth=6, min_child_weight=15, n_estimators=200, objective=binary:logistic, scale_pos_weight=4.615637176845651, subsample=0.75;, score=0.665 total time=   0.8s\n",
      "[CV 2/5] END colsample_bylevel=0.75, colsample_bytree=0.75, eval_metric=logloss, learning_rate=0.1, max_depth=6, min_child_weight=15, n_estimators=200, objective=binary:logistic, scale_pos_weight=4.615637176845651, subsample=0.75;, score=0.644 total time=   0.7s\n",
      "[CV 3/5] END colsample_bylevel=0.75, colsample_bytree=0.75, eval_metric=logloss, learning_rate=0.1, max_depth=6, min_child_weight=15, n_estimators=200, objective=binary:logistic, scale_pos_weight=4.615637176845651, subsample=0.75;, score=0.690 total time=   0.7s\n",
      "[CV 4/5] END colsample_bylevel=0.75, colsample_bytree=0.75, eval_metric=logloss, learning_rate=0.1, max_depth=6, min_child_weight=15, n_estimators=200, objective=binary:logistic, scale_pos_weight=4.615637176845651, subsample=0.75;, score=0.691 total time=   0.7s\n",
      "[CV 5/5] END colsample_bylevel=0.75, colsample_bytree=0.75, eval_metric=logloss, learning_rate=0.1, max_depth=6, min_child_weight=15, n_estimators=200, objective=binary:logistic, scale_pos_weight=4.615637176845651, subsample=0.75;, score=0.756 total time=   0.6s\n"
     ]
    },
    {
     "data": {
      "text/plain": [
       "GridSearchCV(cv=StratifiedKFold(n_splits=5, random_state=None, shuffle=False),\n",
       "             estimator=XGBClassifier(base_score=None, booster=None,\n",
       "                                     callbacks=None, colsample_bylevel=None,\n",
       "                                     colsample_bynode=None,\n",
       "                                     colsample_bytree=None,\n",
       "                                     early_stopping_rounds=None,\n",
       "                                     enable_categorical=False, eval_metric=None,\n",
       "                                     gamma=None, gpu_id=0, grow_policy=None,\n",
       "                                     importance_type=None,\n",
       "                                     interaction_...\n",
       "                                     random_state=None, reg_alpha=None,\n",
       "                                     reg_lambda=None, ...),\n",
       "             param_grid={'colsample_bylevel': [0.75],\n",
       "                         'colsample_bytree': [0.75], 'eval_metric': ['logloss'],\n",
       "                         'learning_rate': [0.1], 'max_depth': [6],\n",
       "                         'min_child_weight': [15], 'n_estimators': [200],\n",
       "                         'objective': ['binary:logistic'],\n",
       "                         'scale_pos_weight': [4.615637176845651],\n",
       "                         'subsample': [0.75]},\n",
       "             refit='f1', scoring='f1', verbose=4)"
      ]
     },
     "execution_count": 14,
     "metadata": {},
     "output_type": "execute_result"
    }
   ],
   "source": [
    "\n",
    "paramGrid = {\n",
    "    \n",
    "    'max_depth': [6],\n",
    "    'subsample': [0.75],\n",
    "    'colsample_bytree': [0.75],\n",
    "    'learning_rate': [0.1],\n",
    "    'n_estimators': [200],\n",
    "    'min_child_weight': [15],\n",
    "    'colsample_bylevel': [0.75],\n",
    "    'scale_pos_weight': [4.615637176845651],\n",
    "    'objective' : ['binary:logistic'],\n",
    "    'eval_metric' : ['logloss'],\n",
    "    }\n",
    "\n",
    "xgb_clf = xgb.XGBClassifier(tree_method='gpu_hist', gpu_id=0)\n",
    "\n",
    "cv = StratifiedKFold()\n",
    "\n",
    "xgb_rs = GridSearchCV(estimator=xgb_clf, param_grid=paramGrid, scoring='f1', refit ='f1', cv=cv, verbose=4 )\n",
    "\n",
    "xgb_rs.fit(X, y)\n",
    "\n",
    "\n",
    "\n",
    "\n"
   ]
  },
  {
   "cell_type": "code",
   "execution_count": 15,
   "id": "d32b8aef-7c63-491c-ae88-abf2e075990e",
   "metadata": {},
   "outputs": [
    {
     "name": "stdout",
     "output_type": "stream",
     "text": [
      "0.9981290553719995\n",
      "0.9793769197016235\n"
     ]
    }
   ],
   "source": [
    "best = xgb_rs.best_estimator_\n",
    "preds = xgb_rs.predict(X)\n",
    "print(accuracy_score(y, preds))\n",
    "print(f1_score(y, preds))"
   ]
  },
  {
   "cell_type": "raw",
   "id": "2d02b913-25aa-4dfb-9dbe-d4cc250bb87d",
   "metadata": {},
   "source": [
    "Εισάγουμε το αρχείο test.csv, ώστε να πραγματοποιήσουμε τις προβλέψεις μας σε άγνωστα δεδομένα.\n",
    "Το μετατρέπουμε σε numeric όπως και με το αρχείο train, έτσι ώστε να έχουν την ίδια μορφή."
   ]
  },
  {
   "cell_type": "code",
   "execution_count": 16,
   "id": "e0e18688-7305-4885-a02b-56daf92d9341",
   "metadata": {},
   "outputs": [
    {
     "name": "stderr",
     "output_type": "stream",
     "text": [
      "/opt/conda/lib/python3.7/site-packages/IPython/core/interactiveshell.py:3552: DtypeWarning: Columns (2,3,4,7,8,10,11,15,19,23,26,30,36,37,39,49,52,58,60) have mixed types.Specify dtype option on import or set low_memory=False.\n",
      "  exec(code_obj, self.user_global_ns, self.user_ns)\n"
     ]
    }
   ],
   "source": [
    "test = pd.read_csv('test.csv')\n",
    "test = test.apply(pd.to_numeric, errors = 'coerce', downcast = 'integer')\n",
    "\n"
   ]
  },
  {
   "cell_type": "raw",
   "id": "4ec825ef-8c45-4a30-94ae-b8328df04bd6",
   "metadata": {},
   "source": [
    "Εφαρμόζουμε τους predictors στην μεταβλητή X2, για να έχουμε τα ίδια indexes όπου εκπαιδεύσαμε το μοντέλο μας."
   ]
  },
  {
   "cell_type": "code",
   "execution_count": 18,
   "id": "2eb1143f-be80-4240-96f0-43a9e2d08176",
   "metadata": {},
   "outputs": [
    {
     "name": "stdout",
     "output_type": "stream",
     "text": [
      "Index(['forecasting period', 'net_profit_over_total_assets',\n",
      "       'total_liabilities_over_total_assets',\n",
      "       'working_capital_over_total_assets',\n",
      "       'current_assets_over_short_term_liabilities',\n",
      "       'cash_plus_short_term_securities_plus_receivables_minus_short_term_liabilities_over_operating_expenses_minus_depreciation_times_365',\n",
      "       'retained_earnings_over_total_assets', 'EBIT_over_total_assets',\n",
      "       'book_value_of_equity_over_total_liabilities',\n",
      "       'sales_over_total_assets', 'equity_over_total_assets',\n",
      "       'gross_profit_plus_extraordinary_items_plus_financial_expenses_over_total_assets',\n",
      "       'gross_profit_over_short_term_liabilities',\n",
      "       'gross_profit_plus_depreciation_over_sales',\n",
      "       'gross_profit_plus_interest_over_total_assets',\n",
      "       'total_liabilities_times_365_over_gross_profit_plus_depreciation',\n",
      "       'gross_profit_plus_depreciation_over_total_liabilities',\n",
      "       'total_assets_over_total_liabilities', 'gross_profit_over_total_assets',\n",
      "       'gross_profit_over_sales', 'inventory_times_365_over_sales',\n",
      "       'sales_n_over_sales_n_minus_1',\n",
      "       'profit_on_operating_activities_over_total_assets',\n",
      "       'net_profit_over_sales', 'gross_profit_in_3_years_over_total_assets',\n",
      "       'equity_minus_share_capital_over_total_assets',\n",
      "       'net_profit_plus_depreciation_over_total_liabilities',\n",
      "       'profit_on_operating_activities_over_financial_expenses',\n",
      "       'working_capital_over_fixed_assets', 'logarithm_of_total_assets',\n",
      "       'total_liabilities_minus_cash_over_sales',\n",
      "       'gross_profit_plus_interest_over_sales',\n",
      "       'current_liabilities_times_365_over_cost_of_products_sold',\n",
      "       'operating_expenses_over_short_term_liabilities',\n",
      "       'operating_expenses_over_total_liabilities',\n",
      "       'profit_on_sales_over_total_assets', 'total_sales_over_total_assets',\n",
      "       'current_assets_minus_inventories_over_long_term_liabilities',\n",
      "       'constant_capital_over_total_assets', 'profit_on_sales_over_sales',\n",
      "       'current_assets_minus_inventory_minus_receivables_over_short_term_liabilities',\n",
      "       'total_liabilities_over_profit_on_operating_activities_plus_depreciation_times_12_over_365',\n",
      "       'profit_on_operating_activities_over_sales',\n",
      "       'rotation_receivables_plus_inventory_turnover_in_days',\n",
      "       'receivables_times_365_over_sales', 'net_profit_over_inventory',\n",
      "       'current_assets_minus_inventory_over_short_term_liabilities',\n",
      "       'inventory_times_365_over_cost_of_products_sold',\n",
      "       'EBITDA_profit_on_operating_activities_minus_depreciation_over_total_assets',\n",
      "       'EBITDA_profit_on_operating_activities_minus_depreciation_over_sales',\n",
      "       'current_assets_over_total_liabilities',\n",
      "       'short_term_liabilities_over_total_assets',\n",
      "       'short_term_liabilities_times_365_over_cost_of_products_sold',\n",
      "       'equity_over_fixed_assets', 'constant_capital_over_fixed_assets',\n",
      "       'working_capital', 'sales_minus_cost_of_products_sold_over_sales',\n",
      "       'current_assets_minus_inventory_minus_short_term_liabilities_over_sales_minus_gross_profit_minus_depreciation',\n",
      "       'total_costs_overtotal_sales', 'long_term_liabilities_over_equity',\n",
      "       'sales_over_inventory', 'sales_over_receivables',\n",
      "       'short_term_liabilities_times_365_over_sales',\n",
      "       'sales_over_short_term_liabilities', 'sales_over_fixed_assets'],\n",
      "      dtype='object')\n"
     ]
    }
   ],
   "source": [
    "X2 = X.columns\n",
    "print(X2)"
   ]
  },
  {
   "cell_type": "code",
   "execution_count": 19,
   "id": "0af8fd4c-7eac-485c-93f6-502ecdaf53b3",
   "metadata": {},
   "outputs": [
    {
     "name": "stdout",
     "output_type": "stream",
     "text": [
      "[0 0 0 0 0 0 0 0 0 0 0 0 0 0 0 0 0 0 0 0 0 0 0 0 1 0 0 0 0 0 0 0 0 0 0 0 0\n",
      " 0 0 0 0 0 0 0 0 0 0 0 0 0 0 0 0 0 0 0 0 0 0 0 0 0 0 0 0 1 0 0 0 0 0 0 0 0\n",
      " 0 0 0 0 0 0 0 0 0 0 0 0 0 0 0 0 0 0 0 0 0 0 0 0 0 0]\n"
     ]
    }
   ],
   "source": [
    "y2 = xgb_rs.predict(test[X2])\n",
    "print(y2[:100])"
   ]
  },
  {
   "cell_type": "raw",
   "id": "9a2a4c7f-d244-4dd8-801e-36f9009d70cc",
   "metadata": {},
   "source": [
    "Τέλος δημιουργούμε το αρχείο μας για υποβολή, όπου έχουμε δυο στήλες id και class"
   ]
  },
  {
   "cell_type": "code",
   "execution_count": 20,
   "id": "21a7432d-72fe-47af-b21d-d62699830ec3",
   "metadata": {},
   "outputs": [],
   "source": [
    "submission = pd.DataFrame()\n",
    "submission['id'] = test['id']\n",
    "submission['class'] = y2 # our model predictions on the test dataset\n",
    "submission.head(28)\n",
    "submission.to_csv('sub.csv', index=False)"
   ]
  }
 ],
 "metadata": {
  "environment": {
   "kernel": "python3",
   "name": "common-cu110.m93",
   "type": "gcloud",
   "uri": "gcr.io/deeplearning-platform-release/base-cu110:m93"
  },
  "kernelspec": {
   "display_name": "Python 3",
   "language": "python",
   "name": "python3"
  },
  "language_info": {
   "codemirror_mode": {
    "name": "ipython",
    "version": 3
   },
   "file_extension": ".py",
   "mimetype": "text/x-python",
   "name": "python",
   "nbconvert_exporter": "python",
   "pygments_lexer": "ipython3",
   "version": "3.7.12"
  }
 },
 "nbformat": 4,
 "nbformat_minor": 5
}
